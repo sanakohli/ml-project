{
 "cells": [
  {
   "cell_type": "code",
   "execution_count": 2,
   "id": "3d454444",
   "metadata": {},
   "outputs": [],
   "source": [
    "import pandas as pd\n",
    "df = pd.read_csv(\"2024_combined_data (1).csv\")"
   ]
  },
  {
   "cell_type": "code",
   "execution_count": 3,
   "id": "b5c620cb",
   "metadata": {},
   "outputs": [
    {
     "data": {
      "text/html": [
       "<div>\n",
       "<style scoped>\n",
       "    .dataframe tbody tr th:only-of-type {\n",
       "        vertical-align: middle;\n",
       "    }\n",
       "\n",
       "    .dataframe tbody tr th {\n",
       "        vertical-align: top;\n",
       "    }\n",
       "\n",
       "    .dataframe thead th {\n",
       "        text-align: right;\n",
       "    }\n",
       "</style>\n",
       "<table border=\"1\" class=\"dataframe\">\n",
       "  <thead>\n",
       "    <tr style=\"text-align: right;\">\n",
       "      <th></th>\n",
       "      <th>game_id</th>\n",
       "      <th>Date</th>\n",
       "      <th>Time</th>\n",
       "      <th>PitchNo</th>\n",
       "      <th>Inning</th>\n",
       "      <th>inning_half</th>\n",
       "      <th>PAofInning</th>\n",
       "      <th>PitchofPA</th>\n",
       "      <th>Pitcher</th>\n",
       "      <th>PitcherId</th>\n",
       "      <th>...</th>\n",
       "      <th>z0</th>\n",
       "      <th>vx0</th>\n",
       "      <th>vy0</th>\n",
       "      <th>vz0</th>\n",
       "      <th>ax0</th>\n",
       "      <th>ay0</th>\n",
       "      <th>az0</th>\n",
       "      <th>catcher</th>\n",
       "      <th>catcher_id</th>\n",
       "      <th>catcher_team</th>\n",
       "    </tr>\n",
       "  </thead>\n",
       "  <tbody>\n",
       "    <tr>\n",
       "      <th>0</th>\n",
       "      <td>20240220-HighPointUniversity-1</td>\n",
       "      <td>2024-02-20</td>\n",
       "      <td>60314.0</td>\n",
       "      <td>82</td>\n",
       "      <td>3</td>\n",
       "      <td>Top</td>\n",
       "      <td>4</td>\n",
       "      <td>2</td>\n",
       "      <td>Olsovsky, Dalton</td>\n",
       "      <td>1000251274</td>\n",
       "      <td>...</td>\n",
       "      <td>5.41</td>\n",
       "      <td>3.28</td>\n",
       "      <td>-106.58</td>\n",
       "      <td>0.58</td>\n",
       "      <td>12.91</td>\n",
       "      <td>22.07</td>\n",
       "      <td>-34.04</td>\n",
       "      <td>Ruiz, Justin</td>\n",
       "      <td>1.000209e+09</td>\n",
       "      <td>HIG_PAN</td>\n",
       "    </tr>\n",
       "    <tr>\n",
       "      <th>1</th>\n",
       "      <td>20240220-HighPointUniversity-1</td>\n",
       "      <td>2024-02-20</td>\n",
       "      <td>63576.0</td>\n",
       "      <td>185</td>\n",
       "      <td>6</td>\n",
       "      <td>Top</td>\n",
       "      <td>2</td>\n",
       "      <td>3</td>\n",
       "      <td>Glover, Lucas</td>\n",
       "      <td>1000138461</td>\n",
       "      <td>...</td>\n",
       "      <td>6.01</td>\n",
       "      <td>5.23</td>\n",
       "      <td>-118.11</td>\n",
       "      <td>-3.37</td>\n",
       "      <td>3.74</td>\n",
       "      <td>26.71</td>\n",
       "      <td>-27.88</td>\n",
       "      <td>Ruiz, Justin</td>\n",
       "      <td>1.000209e+09</td>\n",
       "      <td>HIG_PAN</td>\n",
       "    </tr>\n",
       "    <tr>\n",
       "      <th>2</th>\n",
       "      <td>20240220-HighPointUniversity-1</td>\n",
       "      <td>2024-02-20</td>\n",
       "      <td>66446.0</td>\n",
       "      <td>269</td>\n",
       "      <td>8</td>\n",
       "      <td>Top</td>\n",
       "      <td>3</td>\n",
       "      <td>1</td>\n",
       "      <td>Carter, Noah</td>\n",
       "      <td>1000108939</td>\n",
       "      <td>...</td>\n",
       "      <td>5.52</td>\n",
       "      <td>3.08</td>\n",
       "      <td>-122.94</td>\n",
       "      <td>-1.77</td>\n",
       "      <td>-3.68</td>\n",
       "      <td>24.28</td>\n",
       "      <td>-16.89</td>\n",
       "      <td>Grintz, Eric</td>\n",
       "      <td>6.864560e+05</td>\n",
       "      <td>HIG_PAN</td>\n",
       "    </tr>\n",
       "    <tr>\n",
       "      <th>3</th>\n",
       "      <td>20240220-HighPointUniversity-1</td>\n",
       "      <td>2024-02-20</td>\n",
       "      <td>64809.0</td>\n",
       "      <td>216</td>\n",
       "      <td>6</td>\n",
       "      <td>Bottom</td>\n",
       "      <td>6</td>\n",
       "      <td>1</td>\n",
       "      <td>Welch, Collin</td>\n",
       "      <td>1000192105</td>\n",
       "      <td>...</td>\n",
       "      <td>6.23</td>\n",
       "      <td>0.38</td>\n",
       "      <td>-117.74</td>\n",
       "      <td>-0.37</td>\n",
       "      <td>-12.27</td>\n",
       "      <td>24.59</td>\n",
       "      <td>-28.63</td>\n",
       "      <td>Church, Braxton</td>\n",
       "      <td>1.000192e+09</td>\n",
       "      <td>APP_MOU</td>\n",
       "    </tr>\n",
       "    <tr>\n",
       "      <th>4</th>\n",
       "      <td>20240220-HighPointUniversity-1</td>\n",
       "      <td>2024-02-20</td>\n",
       "      <td>67985.0</td>\n",
       "      <td>308</td>\n",
       "      <td>9</td>\n",
       "      <td>Bottom</td>\n",
       "      <td>4</td>\n",
       "      <td>3</td>\n",
       "      <td>Lewis, Zach</td>\n",
       "      <td>1000127413</td>\n",
       "      <td>...</td>\n",
       "      <td>5.18</td>\n",
       "      <td>9.62</td>\n",
       "      <td>-132.57</td>\n",
       "      <td>-10.20</td>\n",
       "      <td>-8.59</td>\n",
       "      <td>32.05</td>\n",
       "      <td>-14.93</td>\n",
       "      <td>Church, Braxton</td>\n",
       "      <td>1.000192e+09</td>\n",
       "      <td>APP_MOU</td>\n",
       "    </tr>\n",
       "  </tbody>\n",
       "</table>\n",
       "<p>5 rows × 77 columns</p>\n",
       "</div>"
      ],
      "text/plain": [
       "                          game_id        Date     Time  PitchNo  Inning   \n",
       "0  20240220-HighPointUniversity-1  2024-02-20  60314.0       82       3  \\\n",
       "1  20240220-HighPointUniversity-1  2024-02-20  63576.0      185       6   \n",
       "2  20240220-HighPointUniversity-1  2024-02-20  66446.0      269       8   \n",
       "3  20240220-HighPointUniversity-1  2024-02-20  64809.0      216       6   \n",
       "4  20240220-HighPointUniversity-1  2024-02-20  67985.0      308       9   \n",
       "\n",
       "  inning_half  PAofInning  PitchofPA           Pitcher   PitcherId  ...    z0   \n",
       "0         Top           4          2  Olsovsky, Dalton  1000251274  ...  5.41  \\\n",
       "1         Top           2          3     Glover, Lucas  1000138461  ...  6.01   \n",
       "2         Top           3          1      Carter, Noah  1000108939  ...  5.52   \n",
       "3      Bottom           6          1     Welch, Collin  1000192105  ...  6.23   \n",
       "4      Bottom           4          3       Lewis, Zach  1000127413  ...  5.18   \n",
       "\n",
       "    vx0     vy0    vz0    ax0    ay0    az0          catcher    catcher_id   \n",
       "0  3.28 -106.58   0.58  12.91  22.07 -34.04     Ruiz, Justin  1.000209e+09  \\\n",
       "1  5.23 -118.11  -3.37   3.74  26.71 -27.88     Ruiz, Justin  1.000209e+09   \n",
       "2  3.08 -122.94  -1.77  -3.68  24.28 -16.89     Grintz, Eric  6.864560e+05   \n",
       "3  0.38 -117.74  -0.37 -12.27  24.59 -28.63  Church, Braxton  1.000192e+09   \n",
       "4  9.62 -132.57 -10.20  -8.59  32.05 -14.93  Church, Braxton  1.000192e+09   \n",
       "\n",
       "   catcher_team  \n",
       "0       HIG_PAN  \n",
       "1       HIG_PAN  \n",
       "2       HIG_PAN  \n",
       "3       APP_MOU  \n",
       "4       APP_MOU  \n",
       "\n",
       "[5 rows x 77 columns]"
      ]
     },
     "execution_count": 3,
     "metadata": {},
     "output_type": "execute_result"
    }
   ],
   "source": [
    "df.head()"
   ]
  },
  {
   "cell_type": "code",
   "execution_count": 4,
   "id": "5506795c",
   "metadata": {},
   "outputs": [
    {
     "data": {
      "text/plain": [
       "Index(['game_id', 'Date', 'Time', 'PitchNo', 'Inning', 'inning_half',\n",
       "       'PAofInning', 'PitchofPA', 'Pitcher', 'PitcherId', 'PitcherThrows',\n",
       "       'PitcherTeam', 'Batter', 'BatterId', 'BatterSide', 'BatterTeam',\n",
       "       'PitchCall', 'PlayResult', 'KorBB', 'OutsOnPlay', 'RunsScored', 'Balls',\n",
       "       'Strikes', 'Outs', 'TaggedPitchType', 'RelSpeed', 'SpinRate',\n",
       "       'SpinAxis', 'Tilt', 'InducedVertBreak', 'VertBreak', 'HorzBreak',\n",
       "       'VertApprAngle', 'HorzApprAngle', 'vert_rel_angle', 'horz_rel_angle',\n",
       "       'RelHeight', 'RelSide', 'Extension', 'PlateLocHeight', 'PlateLocSide',\n",
       "       'zone_time', 'EffectiveVelo', 'SpeedDrop', 'TaggedHitType', 'hit_x',\n",
       "       'hit_y', 'ExitSpeed', 'Angle', 'HitSpinRate', 'hit_spin_axis',\n",
       "       'Distance', 'hit_last_tracked_distance', 'hit_hang_time', 'Direction',\n",
       "       'Bearing', 'hit_max_height', 'hit_contact_x', 'hit_contact_y',\n",
       "       'hit_contact_z', 'position_110x', 'position_110y', 'position_110z',\n",
       "       'pfxx', 'pfxz', 'x0', 'y0', 'z0', 'vx0', 'vy0', 'vz0', 'ax0', 'ay0',\n",
       "       'az0', 'catcher', 'catcher_id', 'catcher_team'],\n",
       "      dtype='object')"
      ]
     },
     "execution_count": 4,
     "metadata": {},
     "output_type": "execute_result"
    }
   ],
   "source": [
    "df.columns\n",
    "# useful columns: Inning, PitcherThrows, PitchCall, KorBB, OutsOnPlay, RunsScored, Balls, Strikes, Outs, TaggedPitchType, RelSpeed, SpinRate, SpinAxis, Tilt, 'InducedVertBreak', 'VertBreak', 'HorzBreak',"
   ]
  },
  {
   "cell_type": "code",
   "execution_count": 5,
   "id": "2667018a",
   "metadata": {},
   "outputs": [
    {
     "data": {
      "text/plain": [
       "<bound method Series.unique of 0             Slider\n",
       "1             Slider\n",
       "2           Fastball\n",
       "3           ChangeUp\n",
       "4           Fastball\n",
       "             ...    \n",
       "1513434    Curveball\n",
       "1513435       Slider\n",
       "1513436       Slider\n",
       "1513437       Cutter\n",
       "1513438     Fastball\n",
       "Name: TaggedPitchType, Length: 1513439, dtype: object>"
      ]
     },
     "execution_count": 5,
     "metadata": {},
     "output_type": "execute_result"
    }
   ],
   "source": [
    "df['TaggedPitchType'].unique"
   ]
  },
  {
   "cell_type": "code",
   "execution_count": 6,
   "id": "7fb5faa8",
   "metadata": {},
   "outputs": [
    {
     "data": {
      "text/plain": [
       "0               NaN\n",
       "1               NaN\n",
       "2               NaN\n",
       "3               NaN\n",
       "4               NaN\n",
       "             ...   \n",
       "1513434         NaN\n",
       "1513435         NaN\n",
       "1513436         NaN\n",
       "1513437    fly_ball\n",
       "1513438         NaN\n",
       "Name: TaggedHitType, Length: 1513439, dtype: object"
      ]
     },
     "execution_count": 6,
     "metadata": {},
     "output_type": "execute_result"
    }
   ],
   "source": [
    "df['TaggedHitType']"
   ]
  },
  {
   "cell_type": "code",
   "execution_count": 8,
   "id": "3a406995",
   "metadata": {},
   "outputs": [
    {
     "data": {
      "text/plain": [
       "PlayResult\n",
       "Undefined         1128864\n",
       "Out                146365\n",
       "Strikeout           78363\n",
       "Single              60293\n",
       "Walk                44806\n",
       "Double              17877\n",
       "HomeRun             11520\n",
       "Sacrifice            7748\n",
       "FieldersChoice       6756\n",
       "Error                6375\n",
       "StolenBase           1980\n",
       "Triple               1883\n",
       "CaughtStealing        602\n",
       "SIngle                  4\n",
       "error                   2\n",
       "homerun                 1\n",
       "Name: count, dtype: int64"
      ]
     },
     "execution_count": 8,
     "metadata": {},
     "output_type": "execute_result"
    }
   ],
   "source": [
    "df[\"PlayResult\"].value_counts()"
   ]
  },
  {
   "cell_type": "code",
   "execution_count": 13,
   "id": "925f40ff",
   "metadata": {},
   "outputs": [],
   "source": [
    "num_missing_rows = df.isnull().any(axis=1).sum()"
   ]
  },
  {
   "cell_type": "code",
   "execution_count": 14,
   "id": "6e3ee542",
   "metadata": {},
   "outputs": [
    {
     "name": "stdout",
     "output_type": "stream",
     "text": [
      "1402286\n"
     ]
    }
   ],
   "source": [
    "print(num_missing_rows)"
   ]
  },
  {
   "cell_type": "code",
   "execution_count": 4,
   "id": "b4f87a65",
   "metadata": {},
   "outputs": [
    {
     "data": {
      "text/plain": [
       "game_id\n",
       "20240508-OleMiss-1                      538\n",
       "20240423-UGeorgia-1                     510\n",
       "20240320-PurdueUniversity-1             505\n",
       "20240326-UCLA-1                         492\n",
       "20240416-DoakField-1                    487\n",
       "                                       ... \n",
       "20240412-SouthernIdaho-2                163\n",
       "20240330-SouthwesternOregonStadium-2    156\n",
       "20240320-GeorgeHWBush48Field-1          138\n",
       "20240516-BaintonField-1                 113\n",
       "20240315-TheDiamond-3                    77\n",
       "Name: count, Length: 4904, dtype: int64"
      ]
     },
     "execution_count": 4,
     "metadata": {},
     "output_type": "execute_result"
    }
   ],
   "source": [
    "df[\"game_id\"].value_counts()"
   ]
  },
  {
   "cell_type": "code",
   "execution_count": 6,
   "id": "12e29469",
   "metadata": {},
   "outputs": [
    {
     "data": {
      "text/plain": [
       "BatterTeam\n",
       "TEX_AGG    10783\n",
       "TEN_VOL    10633\n",
       "LSU_TIG     9624\n",
       "GEO_BUL     9228\n",
       "NOR_TAR     9010\n",
       "           ...  \n",
       "LAN_COL       97\n",
       "MON_MUS       96\n",
       "BLA_BEA       95\n",
       "NOR_OKL       92\n",
       "GUI_TEC       75\n",
       "Name: count, Length: 551, dtype: int64"
      ]
     },
     "execution_count": 6,
     "metadata": {},
     "output_type": "execute_result"
    }
   ],
   "source": [
    "df[\"BatterTeam\"].value_counts()"
   ]
  },
  {
   "cell_type": "code",
   "execution_count": null,
   "id": "c2a5909d",
   "metadata": {},
   "outputs": [],
   "source": []
  }
 ],
 "metadata": {
  "kernelspec": {
   "display_name": "Python 3 (ipykernel)",
   "language": "python",
   "name": "python3"
  },
  "language_info": {
   "codemirror_mode": {
    "name": "ipython",
    "version": 3
   },
   "file_extension": ".py",
   "mimetype": "text/x-python",
   "name": "python",
   "nbconvert_exporter": "python",
   "pygments_lexer": "ipython3",
   "version": "3.10.6"
  }
 },
 "nbformat": 4,
 "nbformat_minor": 5
}
